{
  "nbformat": 4,
  "nbformat_minor": 0,
  "metadata": {
    "colab": {
      "provenance": []
    },
    "kernelspec": {
      "name": "python3",
      "display_name": "Python 3"
    },
    "language_info": {
      "name": "python"
    }
  },
  "cells": [
    {
      "cell_type": "markdown",
      "source": [
        "This program checks if a given number is even or odd. The user inputs an integer, and the program calculates the remainder when the number is divided by 2. If the remainder is 0, the number is even; otherwise, it is odd.\n"
      ],
      "metadata": {
        "id": "cT0VjkuIfE3C"
      }
    },
    {
      "cell_type": "code",
      "execution_count": 1,
      "metadata": {
        "colab": {
          "base_uri": "https://localhost:8080/"
        },
        "id": "n_l4XVeoeoKw",
        "outputId": "c06a76ed-fbcb-4e6b-eadc-fa52ff25e64e"
      },
      "outputs": [
        {
          "output_type": "stream",
          "name": "stdout",
          "text": [
            "Enter a number: 5\n",
            "5 is Odd.\n"
          ]
        },
        {
          "output_type": "execute_result",
          "data": {
            "text/plain": [
              "5"
            ]
          },
          "metadata": {},
          "execution_count": 1
        }
      ],
      "source": [
        "def check_even_odd():\n",
        "    number = int(input(\"Enter a number: \"))\n",
        "    if number % 2 == 0:\n",
        "        print(f\"{number} is Even.\")\n",
        "    else:\n",
        "        print(f\"{number} is Odd.\")\n",
        "\n",
        "check_even_odd()\n"
      ]
    },
    {
      "cell_type": "markdown",
      "source": [],
      "metadata": {
        "id": "cgRv4T7gfDKg"
      }
    }
  ]
}