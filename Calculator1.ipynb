{
  "nbformat": 4,
  "nbformat_minor": 0,
  "metadata": {
    "colab": {
      "provenance": []
    },
    "kernelspec": {
      "name": "python3",
      "display_name": "Python 3"
    },
    "language_info": {
      "name": "python"
    }
  },
  "cells": [
    {
      "cell_type": "markdown",
      "source": [
        "This program implements a basic calculator that allows the user to perform addition, subtraction, multiplication, or division. The user selects an operation and inputs two numbers. The program outputs the result of the operation, with error handling for division by zero.\n",
        "\n",
        "\n"
      ],
      "metadata": {
        "id": "902DGx3ee7FQ"
      }
    },
    {
      "cell_type": "code",
      "execution_count": 1,
      "metadata": {
        "colab": {
          "base_uri": "https://localhost:8080/"
        },
        "id": "R07ThoRdemf-",
        "outputId": "38ec2bcb-7611-4787-b385-bc64a609cceb"
      },
      "outputs": [
        {
          "output_type": "stream",
          "name": "stdout",
          "text": [
            "Welcome to the Calculator!\n",
            "Select operation:\n",
            "1. Addition\n",
            "2. Subtraction\n",
            "3. Multiplication\n",
            "4. Division\n",
            "Enter choice (1/2/3/4): 2\n",
            "Enter first number: 5\n",
            "Enter second number: 10\n",
            "The result is: -5.0\n"
          ]
        }
      ],
      "source": [
        "def calculator():\n",
        "    print(\"Welcome to the Calculator!\")\n",
        "    print(\"Select operation:\")\n",
        "    print(\"1. Addition\")\n",
        "    print(\"2. Subtraction\")\n",
        "    print(\"3. Multiplication\")\n",
        "    print(\"4. Division\")\n",
        "\n",
        "    choice = input(\"Enter choice (1/2/3/4): \")\n",
        "\n",
        "    num1 = float(input(\"Enter first number: \"))\n",
        "    num2 = float(input(\"Enter second number: \"))\n",
        "\n",
        "    if choice == '1':\n",
        "        print(f\"The result is: {num1 + num2}\")\n",
        "    elif choice == '2':\n",
        "        print(f\"The result is: {num1 - num2}\")\n",
        "    elif choice == '3':\n",
        "        print(f\"The result is: {num1 * num2}\")\n",
        "    elif choice == '4':\n",
        "        if num2 != 0:\n",
        "            print(f\"The result is: {num1 / num2}\")\n",
        "        else:\n",
        "            print(\"Error! Division by zero.\")\n",
        "    else:\n",
        "        print(\"Invalid choice.\")\n",
        "\n",
        "calculator()\n"
      ]
    }
  ]
}