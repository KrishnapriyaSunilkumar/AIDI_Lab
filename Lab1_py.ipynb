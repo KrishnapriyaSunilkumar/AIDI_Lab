{
  "nbformat": 4,
  "nbformat_minor": 0,
  "metadata": {
    "colab": {
      "provenance": []
    },
    "kernelspec": {
      "name": "python3",
      "display_name": "Python 3"
    },
    "language_info": {
      "name": "python"
    }
  },
  "cells": [
    {
      "cell_type": "code",
      "execution_count": 1,
      "metadata": {
        "colab": {
          "base_uri": "https://localhost:8080/"
        },
        "id": "e6-kqgFPmiN3",
        "outputId": "e7d0a3c3-16eb-4681-97b1-0ce8e09e2356"
      },
      "outputs": [
        {
          "output_type": "stream",
          "name": "stdout",
          "text": [
            "The first 10 numbers in the Fibonacci sequence are:\n",
            "[0, 1, 1, 2, 3, 5, 8, 13, 21, 34]\n"
          ]
        }
      ],
      "source": [
        "def fibonacci_sequence(n):\n",
        "    sequence = [0, 1]\n",
        "    for i in range(2, n):\n",
        "        sequence.append(sequence[i - 1] + sequence[i - 2])\n",
        "    return sequence\n",
        "\n",
        "def main():\n",
        "    n = 10  # Number of Fibonacci numbers to generate\n",
        "    fibonacci_numbers = fibonacci_sequence(n)\n",
        "    print(f\"The first {n} numbers in the Fibonacci sequence are:\")\n",
        "    print(fibonacci_numbers)\n",
        "\n",
        "if __name__ == \"__main__\":\n",
        "    main()"
      ]
    }
  ]
}